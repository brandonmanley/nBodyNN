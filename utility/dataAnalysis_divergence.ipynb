{
 "cells": [
  {
   "cell_type": "code",
   "execution_count": 1,
   "metadata": {},
   "outputs": [],
   "source": [
    "import os\n",
    "import pandas as pd \n",
    "import math\n",
    "import numpy as np \n",
    "import matplotlib.pyplot as plt\n",
    "import random as r \n",
    "import glob\n",
    "import seaborn as sns\n",
    "sns.set()\n",
    "pd.options.mode.chained_assignment = None  # default='warn'"
   ]
  },
  {
   "cell_type": "code",
   "execution_count": 7,
   "metadata": {},
   "outputs": [],
   "source": [
    "simfilepath = \"/mnt/c/Users/llave/Downloads/batch_brutus9_1.csv\"\n",
    "df = pd.read_csv(simfilepath)"
   ]
  },
  {
   "cell_type": "code",
   "execution_count": 8,
   "metadata": {},
   "outputs": [
    {
     "data": {
      "text/html": [
       "<div>\n",
       "<style scoped>\n",
       "    .dataframe tbody tr th:only-of-type {\n",
       "        vertical-align: middle;\n",
       "    }\n",
       "\n",
       "    .dataframe tbody tr th {\n",
       "        vertical-align: top;\n",
       "    }\n",
       "\n",
       "    .dataframe thead th {\n",
       "        text-align: right;\n",
       "    }\n",
       "</style>\n",
       "<table border=\"1\" class=\"dataframe\">\n",
       "  <thead>\n",
       "    <tr style=\"text-align: right;\">\n",
       "      <th></th>\n",
       "      <th>Unnamed: 0</th>\n",
       "      <th>eventID</th>\n",
       "      <th>m1</th>\n",
       "      <th>m2</th>\n",
       "      <th>m3</th>\n",
       "      <th>x1</th>\n",
       "      <th>x2</th>\n",
       "      <th>x3</th>\n",
       "      <th>y1</th>\n",
       "      <th>y2</th>\n",
       "      <th>...</th>\n",
       "      <th>x3f</th>\n",
       "      <th>y1f</th>\n",
       "      <th>y2f</th>\n",
       "      <th>y3f</th>\n",
       "      <th>vx1f</th>\n",
       "      <th>vx2f</th>\n",
       "      <th>vx3f</th>\n",
       "      <th>vy1f</th>\n",
       "      <th>vy2f</th>\n",
       "      <th>vy3f</th>\n",
       "    </tr>\n",
       "  </thead>\n",
       "  <tbody>\n",
       "    <tr>\n",
       "      <th>0</th>\n",
       "      <td>1.0</td>\n",
       "      <td>10001.0</td>\n",
       "      <td>84.270385</td>\n",
       "      <td>56.314115</td>\n",
       "      <td>52.279696</td>\n",
       "      <td>-2.226488</td>\n",
       "      <td>-3.406637</td>\n",
       "      <td>9.440128</td>\n",
       "      <td>-3.887835</td>\n",
       "      <td>-4.902674</td>\n",
       "      <td>...</td>\n",
       "      <td>9.442821</td>\n",
       "      <td>-3.888589</td>\n",
       "      <td>-4.899092</td>\n",
       "      <td>-2.849904</td>\n",
       "      <td>0.457428</td>\n",
       "      <td>-0.525155</td>\n",
       "      <td>0.687588</td>\n",
       "      <td>-0.222422</td>\n",
       "      <td>0.961199</td>\n",
       "      <td>-0.100621</td>\n",
       "    </tr>\n",
       "    <tr>\n",
       "      <th>1</th>\n",
       "      <td>1.0</td>\n",
       "      <td>10002.0</td>\n",
       "      <td>84.270385</td>\n",
       "      <td>56.314115</td>\n",
       "      <td>52.279696</td>\n",
       "      <td>-2.226488</td>\n",
       "      <td>-3.406637</td>\n",
       "      <td>9.440128</td>\n",
       "      <td>-3.887835</td>\n",
       "      <td>-4.902674</td>\n",
       "      <td>...</td>\n",
       "      <td>9.445500</td>\n",
       "      <td>-3.889573</td>\n",
       "      <td>-4.895165</td>\n",
       "      <td>-2.850298</td>\n",
       "      <td>0.389737</td>\n",
       "      <td>-0.420452</td>\n",
       "      <td>0.683916</td>\n",
       "      <td>-0.281080</td>\n",
       "      <td>1.049364</td>\n",
       "      <td>-0.101038</td>\n",
       "    </tr>\n",
       "    <tr>\n",
       "      <th>2</th>\n",
       "      <td>1.0</td>\n",
       "      <td>10003.0</td>\n",
       "      <td>84.270385</td>\n",
       "      <td>56.314115</td>\n",
       "      <td>52.279696</td>\n",
       "      <td>-2.226488</td>\n",
       "      <td>-3.406637</td>\n",
       "      <td>9.440128</td>\n",
       "      <td>-3.887835</td>\n",
       "      <td>-4.902674</td>\n",
       "      <td>...</td>\n",
       "      <td>9.448164</td>\n",
       "      <td>-3.890785</td>\n",
       "      <td>-4.890894</td>\n",
       "      <td>-2.850693</td>\n",
       "      <td>0.321736</td>\n",
       "      <td>-0.315285</td>\n",
       "      <td>0.680246</td>\n",
       "      <td>-0.339542</td>\n",
       "      <td>1.137235</td>\n",
       "      <td>-0.101454</td>\n",
       "    </tr>\n",
       "    <tr>\n",
       "      <th>3</th>\n",
       "      <td>1.0</td>\n",
       "      <td>10004.0</td>\n",
       "      <td>84.270385</td>\n",
       "      <td>56.314115</td>\n",
       "      <td>52.279696</td>\n",
       "      <td>-2.226488</td>\n",
       "      <td>-3.406637</td>\n",
       "      <td>9.440128</td>\n",
       "      <td>-3.887835</td>\n",
       "      <td>-4.902674</td>\n",
       "      <td>...</td>\n",
       "      <td>9.450814</td>\n",
       "      <td>-3.892225</td>\n",
       "      <td>-4.886281</td>\n",
       "      <td>-2.851090</td>\n",
       "      <td>0.253345</td>\n",
       "      <td>-0.209536</td>\n",
       "      <td>0.676576</td>\n",
       "      <td>-0.397869</td>\n",
       "      <td>1.224904</td>\n",
       "      <td>-0.101870</td>\n",
       "    </tr>\n",
       "    <tr>\n",
       "      <th>4</th>\n",
       "      <td>1.0</td>\n",
       "      <td>10005.0</td>\n",
       "      <td>84.270385</td>\n",
       "      <td>56.314115</td>\n",
       "      <td>52.279696</td>\n",
       "      <td>-2.226488</td>\n",
       "      <td>-3.406637</td>\n",
       "      <td>9.440128</td>\n",
       "      <td>-3.887835</td>\n",
       "      <td>-4.902674</td>\n",
       "      <td>...</td>\n",
       "      <td>9.453450</td>\n",
       "      <td>-3.893893</td>\n",
       "      <td>-4.881325</td>\n",
       "      <td>-2.851489</td>\n",
       "      <td>0.184487</td>\n",
       "      <td>-0.103088</td>\n",
       "      <td>0.672908</td>\n",
       "      <td>-0.456125</td>\n",
       "      <td>1.312466</td>\n",
       "      <td>-0.102286</td>\n",
       "    </tr>\n",
       "  </tbody>\n",
       "</table>\n",
       "<p>5 rows × 30 columns</p>\n",
       "</div>"
      ],
      "text/plain": [
       "   Unnamed: 0  eventID         m1         m2         m3        x1        x2  \\\n",
       "0         1.0  10001.0  84.270385  56.314115  52.279696 -2.226488 -3.406637   \n",
       "1         1.0  10002.0  84.270385  56.314115  52.279696 -2.226488 -3.406637   \n",
       "2         1.0  10003.0  84.270385  56.314115  52.279696 -2.226488 -3.406637   \n",
       "3         1.0  10004.0  84.270385  56.314115  52.279696 -2.226488 -3.406637   \n",
       "4         1.0  10005.0  84.270385  56.314115  52.279696 -2.226488 -3.406637   \n",
       "\n",
       "         x3        y1        y2  ...       x3f       y1f       y2f       y3f  \\\n",
       "0  9.440128 -3.887835 -4.902674  ...  9.442821 -3.888589 -4.899092 -2.849904   \n",
       "1  9.440128 -3.887835 -4.902674  ...  9.445500 -3.889573 -4.895165 -2.850298   \n",
       "2  9.440128 -3.887835 -4.902674  ...  9.448164 -3.890785 -4.890894 -2.850693   \n",
       "3  9.440128 -3.887835 -4.902674  ...  9.450814 -3.892225 -4.886281 -2.851090   \n",
       "4  9.440128 -3.887835 -4.902674  ...  9.453450 -3.893893 -4.881325 -2.851489   \n",
       "\n",
       "       vx1f      vx2f      vx3f      vy1f      vy2f      vy3f  \n",
       "0  0.457428 -0.525155  0.687588 -0.222422  0.961199 -0.100621  \n",
       "1  0.389737 -0.420452  0.683916 -0.281080  1.049364 -0.101038  \n",
       "2  0.321736 -0.315285  0.680246 -0.339542  1.137235 -0.101454  \n",
       "3  0.253345 -0.209536  0.676576 -0.397869  1.224904 -0.101870  \n",
       "4  0.184487 -0.103088  0.672908 -0.456125  1.312466 -0.102286  \n",
       "\n",
       "[5 rows x 30 columns]"
      ]
     },
     "execution_count": 8,
     "metadata": {},
     "output_type": "execute_result"
    }
   ],
   "source": [
    "df.head()"
   ]
  },
  {
   "cell_type": "code",
   "execution_count": 27,
   "metadata": {},
   "outputs": [
    {
     "name": "stdout",
     "output_type": "stream",
     "text": [
      "(2560, 30)\n"
     ]
    }
   ],
   "source": [
    "index = 10000\n",
    "edf = df.loc[(df['eventID'] >= index) & (df['eventID'] <= (index+2560))]\n",
    "print(edf.shape)"
   ]
  },
  {
   "cell_type": "code",
   "execution_count": 43,
   "metadata": {},
   "outputs": [
    {
     "name": "stdout",
     "output_type": "stream",
     "text": [
      "45\n",
      "(37117, 30)\n"
     ]
    }
   ],
   "source": [
    "df_div = pd.DataFrame()\n",
    "df_good = pd.DataFrame()\n",
    "n_div = 0\n",
    "for i in range(280):\n",
    "    index_i = i*10000\n",
    "    index_f = i*10000+2560\n",
    "    event_pdf = df.loc[(df['eventID'] >= index_i) & (df['eventID'] <= (index_f))]\n",
    "    if(event_pdf.shape[0]<2560):\n",
    "        n_div+=1\n",
    "        df_div = pd.concat([df_div,event_pdf])\n",
    "    else:\n",
    "        df_good = pd.concat([df_good,event_pdf])\n",
    "print(n_div)\n",
    "print(df_div.shape)"
   ]
  },
  {
   "cell_type": "code",
   "execution_count": 69,
   "metadata": {},
   "outputs": [
    {
     "data": {
      "text/plain": [
       "(array([0.0463898 , 0.11597451, 0.30153371, 0.41750822, 0.61466488,\n",
       "        0.49869037, 0.39431332, 0.17396176, 0.08118215, 0.08118215]),\n",
       " array([1.266681 , 1.6335995, 2.000518 , 2.3674365, 2.734355 , 3.1012735,\n",
       "        3.468192 , 3.8351105, 4.202029 , 4.5689475, 4.935866 ]),\n",
       " <a list of 10 Patch objects>)"
      ]
     },
     "execution_count": 69,
     "metadata": {},
     "output_type": "execute_result"
    },
    {
     "data": {
      "image/png": "[encoded data removed]",
      "text/plain": [
       "<Figure size 1440x360 with 1 Axes>"
      ]
     },
     "metadata": {},
     "output_type": "display_data"
    }
   ],
   "source": [
    "plt.hist(abs(df_div['vx1'])+abs(df_div['vx2'])+abs(df_div['vx3'])+abs(df_div['vy1'])+abs(df_div['vy2'])+abs(df_div['vy3']),density=1,alpha=0.5)\n",
    "plt.hist(abs(df_good['vx1'])+abs(df_good['vx2'])+abs(df_good['vx3'])+abs(df_good['vy1'])+abs(df_good['vy2'])+abs(df_good['vy3']),density=1,alpha=0.5)"
   ]
  },
  {
   "cell_type": "code",
   "execution_count": 79,
   "metadata": {},
   "outputs": [
    {
     "data": {
      "text/plain": [
       "(array([1.17817270e-03, 4.03973911e-03, 1.35232854e-03, 2.13822789e-03,\n",
       "        1.57585671e-04, 1.93600422e-03, 1.59344138e-03, 5.07250013e-06,\n",
       "        1.69083338e-06, 1.49469671e-04]),\n",
       " array([ 31.15521859, 110.82549522, 190.49577184, 270.16604847,\n",
       "        349.83632509, 429.50660172, 509.17687834, 588.84715497,\n",
       "        668.51743159, 748.18770822, 827.85798484]),\n",
       " <a list of 10 Patch objects>)"
      ]
     },
     "execution_count": 79,
     "metadata": {},
     "output_type": "execute_result"
    },
    {
     "data": {
      "image/png": "[encoded data removed]",
      "text/plain": [
       "<Figure size 1440x360 with 1 Axes>"
      ]
     },
     "metadata": {},
     "output_type": "display_data"
    }
   ],
   "source": [
    "diff12 = (df_good[\"x1\"]-df_good[\"x2\"])**2+(df_good[\"y1\"]-df_good[\"y2\"])**2\n",
    "diff13 = (df_good[\"x1\"]-df_good[\"x3\"])**2+(df_good[\"y1\"]-df_good[\"y3\"])**2\n",
    "diff23 = (df_good[\"x2\"]-df_good[\"x3\"])**2+(df_good[\"y2\"]-df_good[\"y3\"])**2\n",
    "diff12_div = (df_div[\"x1\"]-df_div[\"x2\"])**2+(df_div[\"y1\"]-df_div[\"y2\"])**2\n",
    "diff13_div = (df_div[\"x1\"]-df_div[\"x3\"])**2+(df_div[\"y1\"]-df_div[\"y3\"])**2\n",
    "diff23_div = (df_div[\"x2\"]-df_div[\"x3\"])**2+(df_div[\"y2\"]-df_div[\"y3\"])**2\n",
    "plt.hist(diff12+diff13+diff23,density=1,alpha=0.5)\n",
    "plt.hist(diff12_div+diff13_div+diff23_div,density=1,alpha=0.5)"
   ]
  },
  {
   "cell_type": "code",
   "execution_count": null,
   "metadata": {},
   "outputs": [],
   "source": []
  }
 ],
 "metadata": {
  "kernelspec": {
   "display_name": "Python 3",
   "language": "python",
   "name": "python3"
  },
  "language_info": {
   "codemirror_mode": {
    "name": "ipython",
    "version": 3
   },
   "file_extension": ".py",
   "mimetype": "text/x-python",
   "name": "python",
   "nbconvert_exporter": "python",
   "pygments_lexer": "ipython3",
   "version": "3.6.9"
  }
 },
 "nbformat": 4,
 "nbformat_minor": 4
}
