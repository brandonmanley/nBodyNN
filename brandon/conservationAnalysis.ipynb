{
 "cells": [
  {
   "cell_type": "code",
   "execution_count": 1,
   "metadata": {},
   "outputs": [],
   "source": [
    "import os\n",
    "import numpy as np\n",
    "import pandas as pd\n",
    "import matplotlib.pyplot as plt"
   ]
  },
  {
   "cell_type": "code",
   "execution_count": 2,
   "metadata": {},
   "outputs": [],
   "source": [
    "# import data (just need 1 file)\n",
    "nBodies = 3\n",
    "dataFile = \"/Users/brandonmanley/Documents/nBody/data/brutusSim/\"+str(nBodies)+\"body/brutus10_1_\"+str(nBodies)+\".csv\"\n",
    "\n",
    "dataCols = [\"file\", \"eventID\"]\n",
    "perParticleColumnsInput = [\"m\", \"x\", \"y\", \"dx\", \"dy\"]\n",
    "perParticleColumnsOutput = [\"xf\", \"yf\", \"dxf\", \"dyf\"]\n",
    "\n",
    "for col in perParticleColumnsInput:\n",
    "    for i in range(nBodies):\n",
    "        dataCols.append(col+str(i+1))\n",
    "dataCols.append(\"t\")\n",
    "for col in perParticleColumnsOutput:\n",
    "    for i in range(nBodies):\n",
    "        dataCols.append(col+str(i+1))\n",
    "        \n",
    "df = pd.read_csv(dataFile, index_col=False, names=dataCols)\n",
    "\n",
    "with pd.option_context('mode.use_inf_as_null', True):\n",
    "    df = df.dropna()"
   ]
  },
  {
   "cell_type": "code",
   "execution_count": 9,
   "metadata": {},
   "outputs": [],
   "source": [
    "# energy conservation\n",
    "\n",
    "def potentialEnergy(): # sets total potential energy  (using G =1)\n",
    "    \n",
    "    potEnergy = 0\n",
    "    for n in range(1, nBodies+1):\n",
    "        nthBody = str(n)\n",
    "\n",
    "        for i in range(1, nBodies+1):\n",
    "            if i <= n: continue\n",
    "            mass_term = 0\n",
    "            x_sep = 0\n",
    "            y_sep = 0\n",
    "            r_sep = 0\n",
    "                \n",
    "            mass_term = df['m'+nthBody]*df['m'+str(i)]\n",
    "            x_sep = (df['xf'+nthBody] - df['xf'+str(i)])**2\n",
    "            y_sep = (df['yf'+nthBody] - df['yf'+str(i)])**2\n",
    "            r_sep = (x_sep + y_sep)**0.5\n",
    "            potEnergy -= mass_term / r_sep\n",
    "\n",
    "    df['u'] = potEnergy\n",
    "    \n",
    "def kineticEnergy(): # sets total kinetic energy \n",
    "    \n",
    "    kinEnergy = 0\n",
    "    for n in range(1, nBodies+1):\n",
    "        nthBody = str(n)\n",
    "        kv_term = 0\n",
    "        \n",
    "        kv_term = df['dxf'+nthBody]**2 + df['dyf'+nthBody]**2\n",
    "        kinEnergy += 0.5*df['m'+nthBody]*kv_term\n",
    "    \n",
    "    df['k'] = kinEnergy\n",
    "\n",
    "        \n",
    "potentialEnergy()\n",
    "kineticEnergy()\n",
    "df['e'] = df['k'] + df['u']\n",
    "\n",
    "\n",
    "def initialEnergy(): # sets initial energy \n",
    "    \n",
    "    # kinetic\n",
    "    kinEnergy = 0\n",
    "    for n in range(1, nBodies+1):\n",
    "        nthBody = str(n)\n",
    "        kv_term = 0\n",
    "        \n",
    "        kv_term = df['dx'+nthBody]**2 + df['dy'+nthBody]**2\n",
    "        kinEnergy += 0.5*df['m'+nthBody]*kv_term\n",
    "    \n",
    "    df['ik'] = kinEnergy\n",
    "    \n",
    "    # potential\n",
    "    potEnergy = 0\n",
    "    for n in range(1, nBodies+1):\n",
    "        nthBody = str(n)\n",
    "\n",
    "        for i in range(1, nBodies+1):\n",
    "            if i <= n: continue\n",
    "            mass_term = 0\n",
    "            x_sep = 0\n",
    "            y_sep = 0\n",
    "            r_sep = 0\n",
    "                \n",
    "            mass_term = df['m'+nthBody]*df['m'+str(i)]\n",
    "            x_sep = (df['x'+nthBody] - df['x'+str(i)])**2\n",
    "            y_sep = (df['y'+nthBody] - df['y'+str(i)])**2\n",
    "            r_sep = (x_sep + y_sep)**0.5\n",
    "            potEnergy -= mass_term / r_sep\n",
    "\n",
    "    df['iu'] = potEnergy\n",
    "    \n",
    "    df['ie'] = df['ik'] + df['iu']\n",
    "\n",
    "initialEnergy() "
   ]
  },
  {
   "cell_type": "code",
   "execution_count": 10,
   "metadata": {},
   "outputs": [
    {
     "data": {
      "image/png": "[encoded data removed]",
      "text/plain": [
       "<Figure size 432x288 with 1 Axes>"
      ]
     },
     "metadata": {
      "needs_background": "light"
     },
     "output_type": "display_data"
    }
   ],
   "source": [
    "plt.scatter(df['t'], df['e']-df['ie'])\n",
    "plt.show()"
   ]
  },
  {
   "cell_type": "code",
   "execution_count": 21,
   "metadata": {},
   "outputs": [],
   "source": [
    "# momentum conservation\n",
    "\n",
    "def momentum():\n",
    "    mom_x = 0\n",
    "    mom_y = 0\n",
    "    \n",
    "    for n in range(1, nBodies+1):\n",
    "        nthBody = str(n)\n",
    "        x_term = 0\n",
    "        y_term = 0\n",
    "        \n",
    "        x_term = df['m'+nthBody]*df['dxf'+nthBody]\n",
    "        y_term = df['m'+nthBody]*df['dyf'+nthBody]\n",
    "        \n",
    "        mom_x += x_term\n",
    "        mom_y += y_term\n",
    "    \n",
    "    df['px'] = mom_x\n",
    "    df['py'] = mom_y\n",
    "    df['p']  = (df['px']**2 + df['py']**2)**0.5\n",
    "        \n",
    "momentum()\n",
    "\n",
    "def initialMomentum():\n",
    "    mom_x = 0\n",
    "    mom_y = 0\n",
    "    \n",
    "    for n in range(1, nBodies+1):\n",
    "        nthBody = str(n)\n",
    "        x_term = 0\n",
    "        y_term = 0\n",
    "        \n",
    "        x_term = df['m'+nthBody]*df['dx'+nthBody]\n",
    "        y_term = df['m'+nthBody]*df['dy'+nthBody]\n",
    "        \n",
    "        mom_x += x_term\n",
    "        mom_y += y_term\n",
    "    \n",
    "    df['ipx'] = mom_x\n",
    "    df['ipy'] = mom_y\n",
    "    df['ip'] = (df['ipx']**2 + df['ipy']**2)**0.5\n",
    "\n",
    "initialMomentum()"
   ]
  },
  {
   "cell_type": "code",
   "execution_count": 22,
   "metadata": {},
   "outputs": [
    {
     "data": {
      "image/png": "[encoded data removed]",
      "text/plain": [
       "<Figure size 432x288 with 1 Axes>"
      ]
     },
     "metadata": {
      "needs_background": "light"
     },
     "output_type": "display_data"
    }
   ],
   "source": [
    "plt.scatter(df['t'], df['p']-df['ip'])\n",
    "plt.show()"
   ]
  },
  {
   "cell_type": "code",
   "execution_count": null,
   "metadata": {},
   "outputs": [],
   "source": [
    "# center of mass conservation \n",
    "\n",
    "def center_of_mass():\n",
    "    cm_x = 0\n",
    "    cm_y = 0\n",
    "    cm = 0\n",
    "    \n",
    "    for n in range(1, nBodies+1):\n",
    "        ns = str(n)\n",
    "        \n",
    "        \n",
    "    \n",
    "    \n",
    "    "
   ]
  }
 ],
 "metadata": {
  "kernelspec": {
   "display_name": "Python 3",
   "language": "python",
   "name": "python3"
  },
  "language_info": {
   "codemirror_mode": {
    "name": "ipython",
    "version": 3
   },
   "file_extension": ".py",
   "mimetype": "text/x-python",
   "name": "python",
   "nbconvert_exporter": "python",
   "pygments_lexer": "ipython3",
   "version": "3.7.4"
  }
 },
 "nbformat": 4,
 "nbformat_minor": 2
}
