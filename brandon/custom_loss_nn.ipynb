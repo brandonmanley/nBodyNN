{
 "cells": [
  {
   "cell_type": "code",
   "execution_count": 58,
   "metadata": {},
   "outputs": [],
   "source": [
    "import pandas as pd\n",
    "from plotly.offline import iplot\n",
    "import plotly.graph_objs as go\n",
    "import numpy as np\n",
    "from sklearn import metrics\n",
    "import math\n",
    "import matplotlib.pyplot as plt\n",
    "from collections import defaultdict\n",
    "from functools import partial\n",
    "from itertools import repeat\n",
    "from sklearn.utils import shuffle\n",
    "from sklearn.model_selection import train_test_split\n",
    "from sklearn.model_selection import KFold\n",
    "from sklearn.metrics import roc_curve, auc\n",
    "from keras.utils import to_categorical\n",
    "from keras import models\n",
    "from keras import layers\n",
    "from keras.callbacks import EarlyStopping, ModelCheckpoint\n",
    "from keras.layers import Dense, Dropout, Activation\n",
    "import keras.backend as K\n",
    "import os"
   ]
  },
  {
   "cell_type": "code",
   "execution_count": 73,
   "metadata": {},
   "outputs": [],
   "source": [
    "# returns dataframe\n",
    "# params: full -> True = full dataset, False = first file\n",
    "\n",
    "def grab_data(full, cols, path):\n",
    "    if full:\n",
    "        return pd.concat([pd.read_csv(path+file, names=cols, index_col=False) for file in os.listdir(path)])\n",
    "    else:\n",
    "        for file in os.listdir(path):\n",
    "            if \"10_4_\" not in file: continue\n",
    "            return pd.read_csv(path+file, names=cols, index_col=False)"
   ]
  },
  {
   "cell_type": "code",
   "execution_count": 74,
   "metadata": {},
   "outputs": [
    {
     "data": {
      "text/html": [
       "<div>\n",
       "<style scoped>\n",
       "    .dataframe tbody tr th:only-of-type {\n",
       "        vertical-align: middle;\n",
       "    }\n",
       "\n",
       "    .dataframe tbody tr th {\n",
       "        vertical-align: top;\n",
       "    }\n",
       "\n",
       "    .dataframe thead th {\n",
       "        text-align: right;\n",
       "    }\n",
       "</style>\n",
       "<table border=\"1\" class=\"dataframe\">\n",
       "  <thead>\n",
       "    <tr style=\"text-align: right;\">\n",
       "      <th></th>\n",
       "      <th>file</th>\n",
       "      <th>eventID</th>\n",
       "      <th>m1</th>\n",
       "      <th>m2</th>\n",
       "      <th>m3</th>\n",
       "      <th>x1</th>\n",
       "      <th>x2</th>\n",
       "      <th>x3</th>\n",
       "      <th>y1</th>\n",
       "      <th>y2</th>\n",
       "      <th>...</th>\n",
       "      <th>xf3</th>\n",
       "      <th>yf1</th>\n",
       "      <th>yf2</th>\n",
       "      <th>yf3</th>\n",
       "      <th>dxf1</th>\n",
       "      <th>dxf2</th>\n",
       "      <th>dxf3</th>\n",
       "      <th>dyf1</th>\n",
       "      <th>dyf2</th>\n",
       "      <th>dyf3</th>\n",
       "    </tr>\n",
       "  </thead>\n",
       "  <tbody>\n",
       "    <tr>\n",
       "      <td>0</td>\n",
       "      <td>2</td>\n",
       "      <td>10001</td>\n",
       "      <td>97.246806</td>\n",
       "      <td>51.902602</td>\n",
       "      <td>34.969975</td>\n",
       "      <td>2.148653</td>\n",
       "      <td>5.191928</td>\n",
       "      <td>1.329325</td>\n",
       "      <td>7.995898</td>\n",
       "      <td>-2.326574</td>\n",
       "      <td>...</td>\n",
       "      <td>1.327029</td>\n",
       "      <td>7.995693</td>\n",
       "      <td>-2.326470</td>\n",
       "      <td>-3.817666</td>\n",
       "      <td>0.021263</td>\n",
       "      <td>-0.729756</td>\n",
       "      <td>-0.582272</td>\n",
       "      <td>-0.053816</td>\n",
       "      <td>0.026817</td>\n",
       "      <td>-0.956404</td>\n",
       "    </tr>\n",
       "    <tr>\n",
       "      <td>1</td>\n",
       "      <td>2</td>\n",
       "      <td>10002</td>\n",
       "      <td>97.246806</td>\n",
       "      <td>51.902602</td>\n",
       "      <td>34.969975</td>\n",
       "      <td>2.148653</td>\n",
       "      <td>5.191928</td>\n",
       "      <td>1.329325</td>\n",
       "      <td>7.995898</td>\n",
       "      <td>-2.326574</td>\n",
       "      <td>...</td>\n",
       "      <td>1.324776</td>\n",
       "      <td>7.995478</td>\n",
       "      <td>-2.326364</td>\n",
       "      <td>-3.821388</td>\n",
       "      <td>0.021690</td>\n",
       "      <td>-0.738115</td>\n",
       "      <td>-0.571053</td>\n",
       "      <td>-0.056467</td>\n",
       "      <td>0.027091</td>\n",
       "      <td>-0.949438</td>\n",
       "    </tr>\n",
       "    <tr>\n",
       "      <td>2</td>\n",
       "      <td>2</td>\n",
       "      <td>10003</td>\n",
       "      <td>97.246806</td>\n",
       "      <td>51.902602</td>\n",
       "      <td>34.969975</td>\n",
       "      <td>2.148653</td>\n",
       "      <td>5.191928</td>\n",
       "      <td>1.329325</td>\n",
       "      <td>7.995898</td>\n",
       "      <td>-2.326574</td>\n",
       "      <td>...</td>\n",
       "      <td>1.322568</td>\n",
       "      <td>7.995252</td>\n",
       "      <td>-2.326258</td>\n",
       "      <td>-3.825084</td>\n",
       "      <td>0.022117</td>\n",
       "      <td>-0.746468</td>\n",
       "      <td>-0.559841</td>\n",
       "      <td>-0.059118</td>\n",
       "      <td>0.027360</td>\n",
       "      <td>-0.942464</td>\n",
       "    </tr>\n",
       "    <tr>\n",
       "      <td>3</td>\n",
       "      <td>2</td>\n",
       "      <td>10004</td>\n",
       "      <td>97.246806</td>\n",
       "      <td>51.902602</td>\n",
       "      <td>34.969975</td>\n",
       "      <td>2.148653</td>\n",
       "      <td>5.191928</td>\n",
       "      <td>1.329325</td>\n",
       "      <td>7.995898</td>\n",
       "      <td>-2.326574</td>\n",
       "      <td>...</td>\n",
       "      <td>1.320403</td>\n",
       "      <td>7.995016</td>\n",
       "      <td>-2.326151</td>\n",
       "      <td>-3.828751</td>\n",
       "      <td>0.022543</td>\n",
       "      <td>-0.754815</td>\n",
       "      <td>-0.548637</td>\n",
       "      <td>-0.061769</td>\n",
       "      <td>0.027624</td>\n",
       "      <td>-0.935484</td>\n",
       "    </tr>\n",
       "    <tr>\n",
       "      <td>4</td>\n",
       "      <td>2</td>\n",
       "      <td>10005</td>\n",
       "      <td>97.246806</td>\n",
       "      <td>51.902602</td>\n",
       "      <td>34.969975</td>\n",
       "      <td>2.148653</td>\n",
       "      <td>5.191928</td>\n",
       "      <td>1.329325</td>\n",
       "      <td>7.995898</td>\n",
       "      <td>-2.326574</td>\n",
       "      <td>...</td>\n",
       "      <td>1.318281</td>\n",
       "      <td>7.994770</td>\n",
       "      <td>-2.326042</td>\n",
       "      <td>-3.832392</td>\n",
       "      <td>0.022968</td>\n",
       "      <td>-0.763157</td>\n",
       "      <td>-0.537440</td>\n",
       "      <td>-0.064420</td>\n",
       "      <td>0.027883</td>\n",
       "      <td>-0.928496</td>\n",
       "    </tr>\n",
       "  </tbody>\n",
       "</table>\n",
       "<p>5 rows × 30 columns</p>\n",
       "</div>"
      ],
      "text/plain": [
       "   file  eventID         m1         m2         m3        x1        x2  \\\n",
       "0     2    10001  97.246806  51.902602  34.969975  2.148653  5.191928   \n",
       "1     2    10002  97.246806  51.902602  34.969975  2.148653  5.191928   \n",
       "2     2    10003  97.246806  51.902602  34.969975  2.148653  5.191928   \n",
       "3     2    10004  97.246806  51.902602  34.969975  2.148653  5.191928   \n",
       "4     2    10005  97.246806  51.902602  34.969975  2.148653  5.191928   \n",
       "\n",
       "         x3        y1        y2  ...       xf3       yf1       yf2       yf3  \\\n",
       "0  1.329325  7.995898 -2.326574  ...  1.327029  7.995693 -2.326470 -3.817666   \n",
       "1  1.329325  7.995898 -2.326574  ...  1.324776  7.995478 -2.326364 -3.821388   \n",
       "2  1.329325  7.995898 -2.326574  ...  1.322568  7.995252 -2.326258 -3.825084   \n",
       "3  1.329325  7.995898 -2.326574  ...  1.320403  7.995016 -2.326151 -3.828751   \n",
       "4  1.329325  7.995898 -2.326574  ...  1.318281  7.994770 -2.326042 -3.832392   \n",
       "\n",
       "       dxf1      dxf2      dxf3      dyf1      dyf2      dyf3  \n",
       "0  0.021263 -0.729756 -0.582272 -0.053816  0.026817 -0.956404  \n",
       "1  0.021690 -0.738115 -0.571053 -0.056467  0.027091 -0.949438  \n",
       "2  0.022117 -0.746468 -0.559841 -0.059118  0.027360 -0.942464  \n",
       "3  0.022543 -0.754815 -0.548637 -0.061769  0.027624 -0.935484  \n",
       "4  0.022968 -0.763157 -0.537440 -0.064420  0.027883 -0.928496  \n",
       "\n",
       "[5 rows x 30 columns]"
      ]
     },
     "execution_count": 74,
     "metadata": {},
     "output_type": "execute_result"
    }
   ],
   "source": [
    "# import data\n",
    "\n",
    "nBodies = 3\n",
    "workDir = \"/Users/brandonmanley/Documents/nBody/data\"\n",
    "dataPath = \"/Users/brandonmanley/Documents/nBody/data/brutusSim/\"+str(nBodies)+\"body/\"\n",
    "\n",
    "dataCols = [\"file\", \"eventID\"]\n",
    "perParticleColumnsInput = [\"m\", \"x\", \"y\", \"dx\", \"dy\"]\n",
    "perParticleColumnsOutput = [\"xf\", \"yf\", \"dxf\", \"dyf\"]\n",
    "\n",
    "for col in perParticleColumnsInput:\n",
    "    for i in range(nBodies):\n",
    "        dataCols.append(col+str(i+1))\n",
    "dataCols.append(\"t\")\n",
    "for col in perParticleColumnsOutput:\n",
    "    for i in range(nBodies):\n",
    "        dataCols.append(col+str(i+1))\n",
    "        \n",
    "df = grab_data(False, dataCols, dataPath)\n",
    "\n",
    "with pd.option_context('mode.use_inf_as_null', True):\n",
    "    df = df.dropna(axis=1)\n",
    "    df = df.dropna(axis=0)\n",
    "    \n",
    "dfShuffle = shuffle(df,random_state=42)\n",
    "df.head()"
   ]
  },
  {
   "cell_type": "code",
   "execution_count": 68,
   "metadata": {},
   "outputs": [],
   "source": [
    "# FIXME: \n",
    "#     -change to n bodies\n",
    "#     -add conservation laws: E, p, CM\n",
    "\n",
    "def modified_mse(y_true,y_pred):\n",
    "\n",
    "    # final positions and velocities\n",
    "    y_true_slice = y_true\n",
    "\n",
    "    # mean squared error between predicted and true\n",
    "    mse = K.mean(K.square(y_pred - y_true_slice), axis=-1)\n",
    "\n",
    "    return mse"
   ]
  },
  {
   "cell_type": "code",
   "execution_count": 75,
   "metadata": {},
   "outputs": [
    {
     "name": "stderr",
     "output_type": "stream",
     "text": [
      "/opt/anaconda3/lib/python3.7/site-packages/ipykernel_launcher.py:14: FutureWarning:\n",
      "\n",
      "Method .as_matrix will be removed in a future version. Use .values instead.\n",
      "\n",
      "/opt/anaconda3/lib/python3.7/site-packages/ipykernel_launcher.py:15: FutureWarning:\n",
      "\n",
      "Method .as_matrix will be removed in a future version. Use .values instead.\n",
      "\n"
     ]
    },
    {
     "name": "stdout",
     "output_type": "stream",
     "text": [
      "(742632, 16) (742632, 12)\n",
      "(185658, 16) (185658, 12)\n"
     ]
    }
   ],
   "source": [
    "# INPUT: want mass, x/y pos, dx/dy for n bodies -> total input is n*5 + 1 (time)\n",
    "# OUTPUT: want x/y, dx/dy -> total input is n*4\n",
    "\n",
    "i_col, o_col = [], []\n",
    "colNames = [\"m\", \"x\", \"y\", \"dx\", \"dy\"]\n",
    "\n",
    "for col in colNames:\n",
    "    for n in range(1, nBodies+1):\n",
    "        i_col.append(col+str(n))\n",
    "        if col != \"m\":\n",
    "            o_col.append(col+str(n))\n",
    "i_col.append(\"t\")\n",
    "    \n",
    "X1 = df.as_matrix(columns=i_col)\n",
    "y1 = df.as_matrix(columns=o_col)\n",
    "\n",
    "X_train,X_test,y_train,y_test = train_test_split(X1, y1, test_size=0.2, random_state=42)\n",
    "print(X_train.shape, y_train.shape)\n",
    "print(X_test.shape, y_test.shape)"
   ]
  },
  {
   "cell_type": "code",
   "execution_count": 76,
   "metadata": {
    "scrolled": true
   },
   "outputs": [
    {
     "name": "stdout",
     "output_type": "stream",
     "text": [
      "3.7139519999999995\n",
      "-4.28924\n",
      "-1.7765360000000001\n",
      "-9.925647999999999\n",
      "1.768341\n",
      "-5.982557\n",
      "-0.403131\n",
      "0.635257\n",
      "0.069552\n",
      "-0.99308\n",
      "-0.25611\n",
      "-0.269832\n"
     ]
    }
   ],
   "source": [
    "for i in y_train[1]:\n",
    "    print(i)"
   ]
  },
  {
   "cell_type": "code",
   "execution_count": 77,
   "metadata": {},
   "outputs": [],
   "source": [
    "loss_function = \"mse\"\n",
    "\n",
    "network = models.Sequential()\n",
    "network.add(layers.Dense(X_train.shape[1], activation='relu', input_dim=X_train.shape[1]))\n",
    "for i in range(10):\n",
    "    network.add(layers.Dense(128,activation='relu'))\n",
    "# network.add(layers.Dense(y_train.shape[1],activation='linear'))\n",
    "network.add(layers.Dense(len(o_col),activation='linear'))\n",
    "network.compile(optimizer='adam', loss=loss_function, metrics=['accuracy'])\n",
    "network.save_weights(workDir + '/weights/model_init_test.h5')"
   ]
  },
  {
   "cell_type": "code",
   "execution_count": null,
   "metadata": {
    "scrolled": true
   },
   "outputs": [
    {
     "name": "stdout",
     "output_type": "stream",
     "text": [
      "Train on 742632 samples, validate on 185658 samples\n",
      "Epoch 1/10\n",
      "742632/742632 [==============================] - 12s 16us/step - loss: 1.8634 - accuracy: 0.8008 - val_loss: 0.1804 - val_accuracy: 0.9274\n",
      "Epoch 2/10\n",
      "742632/742632 [==============================] - 11s 15us/step - loss: 0.1220 - accuracy: 0.9409 - val_loss: 0.0622 - val_accuracy: 0.9540\n",
      "Epoch 3/10\n",
      "742632/742632 [==============================] - 12s 16us/step - loss: 0.0652 - accuracy: 0.9516 - val_loss: 0.2143 - val_accuracy: 0.8647\n",
      "Epoch 4/10\n",
      "527000/742632 [====================>.........] - ETA: 3s - loss: 0.0453 - accuracy: 0.9569"
     ]
    }
   ],
   "source": [
    "network.load_weights(workDir + '/weights/model_init_test.h5')\n",
    "history = network.fit(X_train,y_train,\n",
    "                      epochs=10,\n",
    "                      batch_size=1000,\n",
    "                      validation_data=(X_test,y_test), \n",
    "                      verbose = 1)"
   ]
  },
  {
   "cell_type": "code",
   "execution_count": 57,
   "metadata": {},
   "outputs": [
    {
     "data": {
      "image/png": "[encoded data removed]",
      "text/plain": [
       "<Figure size 432x288 with 1 Axes>"
      ]
     },
     "metadata": {
      "needs_background": "light"
     },
     "output_type": "display_data"
    },
    {
     "data": {
      "image/png": "[encoded data removed]",
      "text/plain": [
       "<Figure size 432x288 with 1 Axes>"
      ]
     },
     "metadata": {
      "needs_background": "light"
     },
     "output_type": "display_data"
    }
   ],
   "source": [
    "# Plot training & validation accuracy values\n",
    "plt.plot(history.history['accuracy'])\n",
    "plt.plot(history.history['val_accuracy'])\n",
    "plt.title('Model accuracy')\n",
    "plt.ylabel('Accuracy')\n",
    "plt.xlabel('Epoch')\n",
    "plt.legend(['Train', 'Test'], loc='best')\n",
    "plt.savefig(workDir + 'model_accuracy.png')\n",
    "plt.show()\n",
    "\n",
    "# Plot training & validation loss values\n",
    "plt.plot(history.history['loss'])\n",
    "plt.plot(history.history['val_loss'])\n",
    "plt.title('Model loss')\n",
    "plt.ylabel('Loss')\n",
    "plt.xlabel('Epoch')\n",
    "plt.legend(['Train', 'Test'], loc='best')\n",
    "plt.savefig(workDir + 'model_loss.png')\n",
    "plt.show()"
   ]
  },
  {
   "cell_type": "code",
   "execution_count": null,
   "metadata": {},
   "outputs": [],
   "source": []
  }
 ],
 "metadata": {
  "kernelspec": {
   "display_name": "Python 3",
   "language": "python",
   "name": "python3"
  },
  "language_info": {
   "codemirror_mode": {
    "name": "ipython",
    "version": 3
   },
   "file_extension": ".py",
   "mimetype": "text/x-python",
   "name": "python",
   "nbconvert_exporter": "python",
   "pygments_lexer": "ipython3",
   "version": "3.7.4"
  }
 },
 "nbformat": 4,
 "nbformat_minor": 4
}
