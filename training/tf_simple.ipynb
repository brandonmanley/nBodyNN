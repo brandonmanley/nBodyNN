{
 "cells": [
  {
   "cell_type": "code",
   "execution_count": 24,
   "metadata": {},
   "outputs": [],
   "source": [
    "import tensorflow as tf\n",
    "import pandas as pd\n",
    "import os\n",
    "from sklearn.model_selection import train_test_split"
   ]
  },
  {
   "cell_type": "code",
   "execution_count": 25,
   "metadata": {},
   "outputs": [],
   "source": [
    "# returns dataframe\n",
    "# params: full -> True = full dataset, False = first file\n",
    "\n",
    "def grab_data(full, path):\n",
    "    if full:\n",
    "        return pd.concat([pd.read_csv(path+file, index_col=False) for file in os.listdir(path)])\n",
    "    else:\n",
    "        for file in os.listdir(path):\n",
    "            return pd.read_csv(path+file, index_col=False)"
   ]
  },
  {
   "cell_type": "code",
   "execution_count": 26,
   "metadata": {},
   "outputs": [
    {
     "data": {
      "text/html": [
       "<div>\n",
       "<style scoped>\n",
       "    .dataframe tbody tr th:only-of-type {\n",
       "        vertical-align: middle;\n",
       "    }\n",
       "\n",
       "    .dataframe tbody tr th {\n",
       "        vertical-align: top;\n",
       "    }\n",
       "\n",
       "    .dataframe thead th {\n",
       "        text-align: right;\n",
       "    }\n",
       "</style>\n",
       "<table border=\"1\" class=\"dataframe\">\n",
       "  <thead>\n",
       "    <tr style=\"text-align: right;\">\n",
       "      <th></th>\n",
       "      <th>finalFile</th>\n",
       "      <th>eventID</th>\n",
       "      <th>m1</th>\n",
       "      <th>m2</th>\n",
       "      <th>m3</th>\n",
       "      <th>x1</th>\n",
       "      <th>x2</th>\n",
       "      <th>x3</th>\n",
       "      <th>y1</th>\n",
       "      <th>y2</th>\n",
       "      <th>...</th>\n",
       "      <th>xf3</th>\n",
       "      <th>yf1</th>\n",
       "      <th>yf2</th>\n",
       "      <th>yf3</th>\n",
       "      <th>dxf1</th>\n",
       "      <th>dxf2</th>\n",
       "      <th>dxf3</th>\n",
       "      <th>dyf1</th>\n",
       "      <th>dyf2</th>\n",
       "      <th>dyf3</th>\n",
       "    </tr>\n",
       "  </thead>\n",
       "  <tbody>\n",
       "    <tr>\n",
       "      <th>0</th>\n",
       "      <td>1</td>\n",
       "      <td>10001</td>\n",
       "      <td>84.270385</td>\n",
       "      <td>56.314115</td>\n",
       "      <td>52.279696</td>\n",
       "      <td>-2.226488</td>\n",
       "      <td>-3.406637</td>\n",
       "      <td>9.440128</td>\n",
       "      <td>-3.887835</td>\n",
       "      <td>-4.902674</td>\n",
       "      <td>...</td>\n",
       "      <td>9.442821</td>\n",
       "      <td>-3.888589</td>\n",
       "      <td>-4.899092</td>\n",
       "      <td>-2.849904</td>\n",
       "      <td>0.457428</td>\n",
       "      <td>-0.525155</td>\n",
       "      <td>0.687588</td>\n",
       "      <td>-0.222422</td>\n",
       "      <td>0.961199</td>\n",
       "      <td>-0.100621</td>\n",
       "    </tr>\n",
       "    <tr>\n",
       "      <th>1</th>\n",
       "      <td>1</td>\n",
       "      <td>10002</td>\n",
       "      <td>84.270385</td>\n",
       "      <td>56.314115</td>\n",
       "      <td>52.279696</td>\n",
       "      <td>-2.226488</td>\n",
       "      <td>-3.406637</td>\n",
       "      <td>9.440128</td>\n",
       "      <td>-3.887835</td>\n",
       "      <td>-4.902674</td>\n",
       "      <td>...</td>\n",
       "      <td>9.445500</td>\n",
       "      <td>-3.889573</td>\n",
       "      <td>-4.895165</td>\n",
       "      <td>-2.850298</td>\n",
       "      <td>0.389737</td>\n",
       "      <td>-0.420452</td>\n",
       "      <td>0.683916</td>\n",
       "      <td>-0.281080</td>\n",
       "      <td>1.049364</td>\n",
       "      <td>-0.101038</td>\n",
       "    </tr>\n",
       "    <tr>\n",
       "      <th>2</th>\n",
       "      <td>1</td>\n",
       "      <td>10003</td>\n",
       "      <td>84.270385</td>\n",
       "      <td>56.314115</td>\n",
       "      <td>52.279696</td>\n",
       "      <td>-2.226488</td>\n",
       "      <td>-3.406637</td>\n",
       "      <td>9.440128</td>\n",
       "      <td>-3.887835</td>\n",
       "      <td>-4.902674</td>\n",
       "      <td>...</td>\n",
       "      <td>9.448164</td>\n",
       "      <td>-3.890785</td>\n",
       "      <td>-4.890894</td>\n",
       "      <td>-2.850693</td>\n",
       "      <td>0.321736</td>\n",
       "      <td>-0.315285</td>\n",
       "      <td>0.680246</td>\n",
       "      <td>-0.339542</td>\n",
       "      <td>1.137235</td>\n",
       "      <td>-0.101454</td>\n",
       "    </tr>\n",
       "    <tr>\n",
       "      <th>3</th>\n",
       "      <td>1</td>\n",
       "      <td>10004</td>\n",
       "      <td>84.270385</td>\n",
       "      <td>56.314115</td>\n",
       "      <td>52.279696</td>\n",
       "      <td>-2.226488</td>\n",
       "      <td>-3.406637</td>\n",
       "      <td>9.440128</td>\n",
       "      <td>-3.887835</td>\n",
       "      <td>-4.902674</td>\n",
       "      <td>...</td>\n",
       "      <td>9.450814</td>\n",
       "      <td>-3.892225</td>\n",
       "      <td>-4.886281</td>\n",
       "      <td>-2.851090</td>\n",
       "      <td>0.253345</td>\n",
       "      <td>-0.209536</td>\n",
       "      <td>0.676576</td>\n",
       "      <td>-0.397869</td>\n",
       "      <td>1.224904</td>\n",
       "      <td>-0.101870</td>\n",
       "    </tr>\n",
       "    <tr>\n",
       "      <th>4</th>\n",
       "      <td>1</td>\n",
       "      <td>10005</td>\n",
       "      <td>84.270385</td>\n",
       "      <td>56.314115</td>\n",
       "      <td>52.279696</td>\n",
       "      <td>-2.226488</td>\n",
       "      <td>-3.406637</td>\n",
       "      <td>9.440128</td>\n",
       "      <td>-3.887835</td>\n",
       "      <td>-4.902674</td>\n",
       "      <td>...</td>\n",
       "      <td>9.453450</td>\n",
       "      <td>-3.893893</td>\n",
       "      <td>-4.881325</td>\n",
       "      <td>-2.851489</td>\n",
       "      <td>0.184487</td>\n",
       "      <td>-0.103088</td>\n",
       "      <td>0.672908</td>\n",
       "      <td>-0.456125</td>\n",
       "      <td>1.312466</td>\n",
       "      <td>-0.102286</td>\n",
       "    </tr>\n",
       "  </tbody>\n",
       "</table>\n",
       "<p>5 rows × 30 columns</p>\n",
       "</div>"
      ],
      "text/plain": [
       "   finalFile  eventID         m1         m2         m3        x1        x2  \\\n",
       "0          1    10001  84.270385  56.314115  52.279696 -2.226488 -3.406637   \n",
       "1          1    10002  84.270385  56.314115  52.279696 -2.226488 -3.406637   \n",
       "2          1    10003  84.270385  56.314115  52.279696 -2.226488 -3.406637   \n",
       "3          1    10004  84.270385  56.314115  52.279696 -2.226488 -3.406637   \n",
       "4          1    10005  84.270385  56.314115  52.279696 -2.226488 -3.406637   \n",
       "\n",
       "         x3        y1        y2  ...       xf3       yf1       yf2       yf3  \\\n",
       "0  9.440128 -3.887835 -4.902674  ...  9.442821 -3.888589 -4.899092 -2.849904   \n",
       "1  9.440128 -3.887835 -4.902674  ...  9.445500 -3.889573 -4.895165 -2.850298   \n",
       "2  9.440128 -3.887835 -4.902674  ...  9.448164 -3.890785 -4.890894 -2.850693   \n",
       "3  9.440128 -3.887835 -4.902674  ...  9.450814 -3.892225 -4.886281 -2.851090   \n",
       "4  9.440128 -3.887835 -4.902674  ...  9.453450 -3.893893 -4.881325 -2.851489   \n",
       "\n",
       "       dxf1      dxf2      dxf3      dyf1      dyf2      dyf3  \n",
       "0  0.457428 -0.525155  0.687588 -0.222422  0.961199 -0.100621  \n",
       "1  0.389737 -0.420452  0.683916 -0.281080  1.049364 -0.101038  \n",
       "2  0.321736 -0.315285  0.680246 -0.339542  1.137235 -0.101454  \n",
       "3  0.253345 -0.209536  0.676576 -0.397869  1.224904 -0.101870  \n",
       "4  0.184487 -0.103088  0.672908 -0.456125  1.312466 -0.102286  \n",
       "\n",
       "[5 rows x 30 columns]"
      ]
     },
     "execution_count": 26,
     "metadata": {},
     "output_type": "execute_result"
    }
   ],
   "source": [
    "# import data\n",
    "\n",
    "nBodies = 3\n",
    "workDir = \"C:/Users/llave/Documents/nBody/\"\n",
    "dataPath = workDir + \"/data/\"\n",
    "        \n",
    "df = grab_data(True, dataPath)\n",
    "df.head()"
   ]
  },
  {
   "cell_type": "code",
   "execution_count": 34,
   "metadata": {},
   "outputs": [
    {
     "name": "stdout",
     "output_type": "stream",
     "text": [
      "(1147503, 16) (1147503, 12)\n",
      "(286876, 16) (286876, 12)\n"
     ]
    }
   ],
   "source": [
    "# INPUT: want mass, x/y pos, dx/dy for n bodies -> total input is n*5 + 1 (time)\n",
    "# OUTPUT: want x/y, dx/dy -> total input is n*4\n",
    "\n",
    "i_col, o_col = [], []\n",
    "colNames = [\"m\", \"x\", \"y\", \"dx\", \"dy\"]\n",
    "\n",
    "for col in colNames:\n",
    "    for n in range(1, nBodies+1):\n",
    "        i_col.append(col+str(n))\n",
    "        if col != \"m\":\n",
    "            o_col.append(col+\"f\"+str(n))\n",
    "i_col.append(\"t\")\n",
    "    \n",
    "X1 = df[i_col].values\n",
    "y1 = df[o_col].values\n",
    "\n",
    "X_train,X_test,y_train,y_test = train_test_split(X1, y1, test_size=0.2, random_state=42)\n",
    "print(X_train.shape, y_train.shape)\n",
    "print(X_test.shape, y_test.shape)"
   ]
  },
  {
   "cell_type": "code",
   "execution_count": 35,
   "metadata": {},
   "outputs": [],
   "source": [
    "model = tf.keras.models.Sequential([\n",
    "    tf.keras.layers.Dense(X_train.shape[1], activation='relu', input_dim=X_train.shape[1]),\n",
    "    tf.keras.layers.Dense(128,activation='relu'),\n",
    "    tf.keras.layers.Dense(128,activation='relu'),\n",
    "    tf.keras.layers.Dense(128,activation='relu'),\n",
    "    tf.keras.layers.Dense(128,activation='relu'),\n",
    "    tf.keras.layers.Dense(128,activation='relu'),\n",
    "    tf.keras.layers.Dense(128,activation='relu'),\n",
    "    tf.keras.layers.Dense(128,activation='relu'),\n",
    "    tf.keras.layers.Dense(128,activation='relu'),\n",
    "    tf.keras.layers.Dense(y_train.shape[1],activation='linear')\n",
    "])\n",
    "\n",
    "loss_fn = tf.keras.losses.MeanSquaredError()\n",
    "model.compile(optimizer='adam',\n",
    "              loss=loss_fn,\n",
    "              metrics=['mse'])"
   ]
  },
  {
   "cell_type": "code",
   "execution_count": 36,
   "metadata": {
    "scrolled": true
   },
   "outputs": [
    {
     "name": "stdout",
     "output_type": "stream",
     "text": [
      "Train on 1147503 samples\n",
      "Epoch 1/5\n",
      "1147503/1147503 [==============================] - 57s 49us/sample - loss: 6.7853 - mse: 6.7853\n",
      "Epoch 2/5\n",
      "1147503/1147503 [==============================] - 60s 52us/sample - loss: 4.3517 - mse: 4.3517\n",
      "Epoch 3/5\n",
      "1147503/1147503 [==============================] - 63s 55us/sample - loss: 4.0187 - mse: 4.0187\n",
      "Epoch 4/5\n",
      "1147503/1147503 [==============================] - 74s 64us/sample - loss: 3.9256 - mse: 3.9256\n",
      "Epoch 5/5\n",
      "1147503/1147503 [==============================] - 71s 62us/sample - loss: 3.8403 - mse: 3.8403\n"
     ]
    },
    {
     "data": {
      "text/plain": [
       "<tensorflow.python.keras.callbacks.History at 0x15f109d8320>"
      ]
     },
     "execution_count": 36,
     "metadata": {},
     "output_type": "execute_result"
    }
   ],
   "source": [
    "model.fit(X_train,y_train, epochs=5)"
   ]
  },
  {
   "cell_type": "code",
   "execution_count": 37,
   "metadata": {
    "scrolled": true
   },
   "outputs": [
    {
     "name": "stdout",
     "output_type": "stream",
     "text": [
      "286876/286876 - 5s - loss: 3.7868 - mse: 3.7868\n"
     ]
    },
    {
     "data": {
      "text/plain": [
       "[3.786778229787759, 3.7867806]"
      ]
     },
     "execution_count": 37,
     "metadata": {},
     "output_type": "execute_result"
    }
   ],
   "source": [
    "model.evaluate(X_test,  y_test, verbose=2)"
   ]
  },
  {
   "cell_type": "code",
   "execution_count": null,
   "metadata": {},
   "outputs": [],
   "source": []
  }
 ],
 "metadata": {
  "kernelspec": {
   "display_name": "Python 3",
   "language": "python",
   "name": "python3"
  },
  "language_info": {
   "codemirror_mode": {
    "name": "ipython",
    "version": 3
   },
   "file_extension": ".py",
   "mimetype": "text/x-python",
   "name": "python",
   "nbconvert_exporter": "python",
   "pygments_lexer": "ipython3",
   "version": "3.7.4"
  }
 },
 "nbformat": 4,
 "nbformat_minor": 4
}
