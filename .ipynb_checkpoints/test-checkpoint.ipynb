{
 "cells": [
  {
   "cell_type": "code",
   "execution_count": 12,
   "metadata": {},
   "outputs": [
    {
     "name": "stdout",
     "output_type": "stream",
     "text": [
      "150.0150.0150.0150.0150.0150.0150.0150.0150.0150.0150.0150.0150.0150.0150.0150.0150.0150.0150.0150.0150.0150.0150.0150.0150.0150.0150.0150.0150.0150.0150.0150.0150.0150.0150.0150.0150.0150.0150.0150.0150.0150.0150.0150.0150.0150.0150.0150.0150.0150.0150.0150.0150.0150.0150.0150.0150.0150.0150.0150.0150.0150.0150.0150.0150.0150.0150.0150.0150.0150.0150.0150.0150.0150.0150.0150.0150.0150.0150.0150.0150.0150.0150.0150.0150.0150.0150.0150.0150.0150.0150.0150.0150.0150.0150.0150.0150.0150.0150.0150.0-4.664089389718997"
     ]
    }
   ],
   "source": [
    "using DelimitedFiles\n",
    "inputArray = readdlm(\"/nBodyData/inputs/indat_3_1.dat\", ',', Float64, '\\n')\n",
    "index= 1\n",
    "for i = 1:101\n",
    "    for j = 1:12\n",
    "        print(inputArray[i,j])\n",
    "    end\n",
    "    print(\"\\n\")\n",
    "end"
   ]
  },
  {
   "cell_type": "code",
   "execution_count": 3,
   "metadata": {},
   "outputs": [
    {
     "ename": "UndefVarError",
     "evalue": "UndefVarError: input not defined",
     "output_type": "error",
     "traceback": [
      "UndefVarError: input not defined",
      "",
      "Stacktrace:",
      " [1] top-level scope at ./In[3]:1"
     ]
    }
   ],
   "source": [
    "for line in eachline(input)\n",
    "    println(line)\n",
    "end"
   ]
  },
  {
   "cell_type": "code",
   "execution_count": null,
   "metadata": {},
   "outputs": [],
   "source": []
  }
 ],
 "metadata": {
  "kernelspec": {
   "display_name": "Julia 1.3.1",
   "language": "julia",
   "name": "julia-1.3"
  },
  "language_info": {
   "file_extension": ".jl",
   "mimetype": "application/julia",
   "name": "julia",
   "version": "1.3.1"
  }
 },
 "nbformat": 4,
 "nbformat_minor": 2
}
