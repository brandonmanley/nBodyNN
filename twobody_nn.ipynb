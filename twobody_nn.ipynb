{
 "cells": [
  {
   "cell_type": "code",
   "execution_count": 1,
   "metadata": {},
   "outputs": [
    {
     "name": "stderr",
     "output_type": "stream",
     "text": [
      "Using TensorFlow backend.\n"
     ]
    }
   ],
   "source": [
    "import pandas as pd\n",
    "import numpy as np\n",
    "from sklearn import metrics\n",
    "import math\n",
    "import matplotlib.pyplot as plt\n",
    "from collections import defaultdict\n",
    "from functools import partial\n",
    "from itertools import repeat\n",
    "from sklearn.utils import shuffle\n",
    "from sklearn.model_selection import train_test_split\n",
    "from sklearn.model_selection import StratifiedKFold\n",
    "from sklearn.metrics import roc_curve, auc\n",
    "from keras.utils import to_categorical\n",
    "from keras import models\n",
    "from keras import layers\n",
    "from keras.callbacks import EarlyStopping, ModelCheckpoint\n",
    "from keras.layers import Dense, Dropout, Activation\n",
    "import keras.backend as K"
   ]
  },
  {
   "cell_type": "code",
   "execution_count": 2,
   "metadata": {},
   "outputs": [
    {
     "name": "stdout",
     "output_type": "stream",
     "text": [
      "(456882, 30)\n",
      "178.46953125\n"
     ]
    }
   ],
   "source": [
    "dataDir = \"/Users/brandonmanley/Documents/nBody/data/brutusSim/\"\n",
    "workDir = \"/Users/brandonmanley/Documents/nBody/data/\"\n",
    "idCols = ['file', 'eventID']\n",
    "i_col = [\"m1\",\"m2\", \"m3\", \"x1\", \"x2\", \"x3\", \"y1\", \"y2\",\"y3\",\n",
    "\t\t\"dx1\",\"dx2\", \"dx3\", \"dy1\",\"dy2\", \"dy3\", \"t\"]\n",
    "\n",
    "o_col = [\"xf1\", \"xf2\",\"xf3\",  \"yf1\", \"yf2\",\"yf3\",\n",
    "\t\t\"dxf1\", \"dxf2\", \"dxf3\", \"dyf1\", \"dyf2\", \"dyf3\"]\n",
    "\n",
    "#Import data\n",
    "df = pd.read_csv(dataDir + \"brutus10_1_2.csv\")\n",
    "df = df.drop(columns=\"Unnamed: 21\")\n",
    "\n",
    "df3 = pd.read_csv(dataDir + \"brutus10_4_3.csv\", names = idCols+ i_col+o_col, index_col=False)\n",
    "\n",
    "# add 3rd body columns\n",
    "labelsToAdd = ['m3', 'x3', 'y3', 'dx3', 'dy3', 'xf3', 'yf3', 'dyf3', 'dxf3']\n",
    "for label in labelsToAdd:\n",
    "#     dfShuffle[label] = pd.Series([0 for x in range(len(dfShuffle.index)+1)])\n",
    "    df[label] = 0\n",
    "    \n",
    "\n",
    "print(df.shape)\n",
    "print(df.shape[0]/2560)"
   ]
  },
  {
   "cell_type": "code",
   "execution_count": 3,
   "metadata": {},
   "outputs": [
    {
     "name": "stdout",
     "output_type": "stream",
     "text": [
      "(928290, 30)\n",
      "362.61328125\n",
      "(456882, 30)\n",
      "(913764, 30)\n"
     ]
    }
   ],
   "source": [
    "# grab three body data \n",
    "print(df3.shape)\n",
    "print(df3.shape[0]/2560)\n",
    "\n",
    "df3_cut = df3.iloc[:df.shape[0], ]\n",
    "\n",
    "print(df3_cut.shape)\n",
    "\n",
    "df_combined = df.append(df3_cut, sort=True)\n",
    "print(df_combined.shape)"
   ]
  },
  {
   "cell_type": "code",
   "execution_count": 4,
   "metadata": {},
   "outputs": [
    {
     "name": "stderr",
     "output_type": "stream",
     "text": [
      "/opt/anaconda3/lib/python3.7/site-packages/ipykernel_launcher.py:3: FutureWarning: Method .as_matrix will be removed in a future version. Use .values instead.\n",
      "  This is separate from the ipykernel package so we can avoid doing imports until\n",
      "/opt/anaconda3/lib/python3.7/site-packages/ipykernel_launcher.py:4: FutureWarning: Method .as_matrix will be removed in a future version. Use .values instead.\n",
      "  after removing the cwd from sys.path.\n"
     ]
    },
    {
     "name": "stdout",
     "output_type": "stream",
     "text": [
      "(731011, 16) (731011, 12)\n",
      "(182753, 16) (182753, 12)\n",
      "(731011, 12) (182753, 12)\n"
     ]
    }
   ],
   "source": [
    "dfShuffle = shuffle(df_combined,random_state=42)\n",
    "\n",
    "X1 = dfShuffle.as_matrix(columns=i_col)\n",
    "y1 = dfShuffle.as_matrix(columns=o_col)\n",
    "\n",
    "X_train,X_test,y_train,y_test = train_test_split(X1,y1, test_size=0.2, random_state=42)\n",
    "print(X_train.shape, y_train.shape)\n",
    "print(X_test.shape,y_test.shape)\n",
    "\n",
    "X_train = X_train.astype('float64')\n",
    "X_test = X_test.astype('float64')\n",
    "y_train = y_train.astype('float64')\n",
    "y_test = y_test.astype('float64')\n",
    "\n",
    "print(y_train.shape,y_test.shape)"
   ]
  },
  {
   "cell_type": "code",
   "execution_count": 5,
   "metadata": {},
   "outputs": [
    {
     "name": "stdout",
     "output_type": "stream",
     "text": [
      "Train on 731011 samples, validate on 182753 samples\n",
      "Epoch 1/30\n",
      "731011/731011 [==============================] - 5s 7us/step - loss: 9.6928 - accuracy: 0.4848 - val_loss: 6.8768 - val_accuracy: 0.5736\n",
      "Epoch 2/30\n",
      "731011/731011 [==============================] - 5s 6us/step - loss: 5.8537 - accuracy: 0.6116 - val_loss: 5.1818 - val_accuracy: 0.6241\n",
      "Epoch 3/30\n",
      "731011/731011 [==============================] - 4s 6us/step - loss: 4.5324 - accuracy: 0.6493 - val_loss: 4.1141 - val_accuracy: 0.6663\n",
      "Epoch 4/30\n",
      "731011/731011 [==============================] - 5s 6us/step - loss: 3.8288 - accuracy: 0.6740 - val_loss: 3.4975 - val_accuracy: 0.6901\n",
      "Epoch 5/30\n",
      "731011/731011 [==============================] - 5s 6us/step - loss: 3.4389 - accuracy: 0.6971 - val_loss: 3.2335 - val_accuracy: 0.7157\n",
      "Epoch 6/30\n",
      "731011/731011 [==============================] - 5s 6us/step - loss: 3.2323 - accuracy: 0.7137 - val_loss: 3.1152 - val_accuracy: 0.7252\n",
      "Epoch 7/30\n",
      "731011/731011 [==============================] - 5s 6us/step - loss: 3.0930 - accuracy: 0.7254 - val_loss: 2.9807 - val_accuracy: 0.7315\n",
      "Epoch 8/30\n",
      "731011/731011 [==============================] - 5s 6us/step - loss: 2.9988 - accuracy: 0.7333 - val_loss: 2.9018 - val_accuracy: 0.7458\n",
      "Epoch 9/30\n",
      "731011/731011 [==============================] - 5s 6us/step - loss: 2.9349 - accuracy: 0.7398 - val_loss: 2.9422 - val_accuracy: 0.7300\n",
      "Epoch 10/30\n",
      "731011/731011 [==============================] - 5s 6us/step - loss: 2.8717 - accuracy: 0.7450 - val_loss: 2.7959 - val_accuracy: 0.7486\n",
      "Epoch 11/30\n",
      "731011/731011 [==============================] - 5s 6us/step - loss: 2.8368 - accuracy: 0.7478 - val_loss: 2.7769 - val_accuracy: 0.7577\n",
      "Epoch 12/30\n",
      "731011/731011 [==============================] - 5s 6us/step - loss: 2.7809 - accuracy: 0.7538 - val_loss: 2.7480 - val_accuracy: 0.7517\n",
      "Epoch 13/30\n",
      "731011/731011 [==============================] - 5s 6us/step - loss: 2.7549 - accuracy: 0.7550 - val_loss: 2.7058 - val_accuracy: 0.7569\n",
      "Epoch 14/30\n",
      "731011/731011 [==============================] - 5s 6us/step - loss: 2.7141 - accuracy: 0.7595 - val_loss: 2.6326 - val_accuracy: 0.7673\n",
      "Epoch 15/30\n",
      "731011/731011 [==============================] - 5s 6us/step - loss: 2.6967 - accuracy: 0.7595 - val_loss: 2.6354 - val_accuracy: 0.7630\n",
      "Epoch 16/30\n",
      "731011/731011 [==============================] - 5s 6us/step - loss: 2.6708 - accuracy: 0.7617 - val_loss: 2.6199 - val_accuracy: 0.7652\n",
      "Epoch 17/30\n",
      "731011/731011 [==============================] - 6s 8us/step - loss: 2.6370 - accuracy: 0.7655 - val_loss: 2.6772 - val_accuracy: 0.7590\n",
      "Epoch 18/30\n",
      "731011/731011 [==============================] - 5s 6us/step - loss: 2.6169 - accuracy: 0.7679 - val_loss: 2.6061 - val_accuracy: 0.7733\n",
      "Epoch 19/30\n",
      "731011/731011 [==============================] - 4s 6us/step - loss: 2.6070 - accuracy: 0.7687 - val_loss: 2.6142 - val_accuracy: 0.7562\n",
      "Epoch 20/30\n",
      "731011/731011 [==============================] - 5s 7us/step - loss: 2.5814 - accuracy: 0.7728 - val_loss: 2.5159 - val_accuracy: 0.7750\n",
      "Epoch 21/30\n",
      "731011/731011 [==============================] - 5s 6us/step - loss: 2.5614 - accuracy: 0.7740 - val_loss: 2.5187 - val_accuracy: 0.7730\n",
      "Epoch 22/30\n",
      "731011/731011 [==============================] - 5s 7us/step - loss: 2.5402 - accuracy: 0.7773 - val_loss: 2.5578 - val_accuracy: 0.7645\n",
      "Epoch 23/30\n",
      "731011/731011 [==============================] - 5s 7us/step - loss: 2.5345 - accuracy: 0.7758 - val_loss: 2.5056 - val_accuracy: 0.7768\n",
      "Epoch 24/30\n",
      "731011/731011 [==============================] - 4s 6us/step - loss: 2.5126 - accuracy: 0.7795 - val_loss: 2.4971 - val_accuracy: 0.7833\n",
      "Epoch 25/30\n",
      "731011/731011 [==============================] - 4s 6us/step - loss: 2.5039 - accuracy: 0.7786 - val_loss: 2.5066 - val_accuracy: 0.7708\n",
      "Epoch 26/30\n",
      "731011/731011 [==============================] - 4s 6us/step - loss: 2.4861 - accuracy: 0.7818 - val_loss: 2.4594 - val_accuracy: 0.7814\n",
      "Epoch 27/30\n",
      "731011/731011 [==============================] - 4s 6us/step - loss: 2.4765 - accuracy: 0.7820 - val_loss: 2.4095 - val_accuracy: 0.7873\n",
      "Epoch 28/30\n",
      "731011/731011 [==============================] - 4s 6us/step - loss: 2.4580 - accuracy: 0.7842 - val_loss: 2.4239 - val_accuracy: 0.7913\n",
      "Epoch 29/30\n",
      "731011/731011 [==============================] - 5s 6us/step - loss: 2.4482 - accuracy: 0.7851 - val_loss: 2.4564 - val_accuracy: 0.7776\n",
      "Epoch 30/30\n",
      "731011/731011 [==============================] - 5s 7us/step - loss: 2.4386 - accuracy: 0.7850 - val_loss: 2.4142 - val_accuracy: 0.7877\n",
      "dict_keys(['val_loss', 'val_accuracy', 'loss', 'accuracy'])\n"
     ]
    },
    {
     "data": {
      "image/png": "[encoded data removed]",
      "text/plain": [
       "<Figure size 432x288 with 1 Axes>"
      ]
     },
     "metadata": {
      "needs_background": "light"
     },
     "output_type": "display_data"
    },
    {
     "data": {
      "image/png": "[encoded data removed]",
      "text/plain": [
       "<Figure size 432x288 with 1 Axes>"
      ]
     },
     "metadata": {
      "needs_background": "light"
     },
     "output_type": "display_data"
    }
   ],
   "source": [
    "def modified_mse(y_true,y_pred): # FIXME: Update for 2 bodies\n",
    "\n",
    "\tmasses = y_true[:, 2]\n",
    "\n",
    "\t#initial positions\n",
    "\tp0 = y_true[:, 3:8] \n",
    "\n",
    "\t#final positions and velocities\n",
    "\ty_true = y_true[:,10:]\n",
    "\n",
    "\t#predicted final positions and velocities\n",
    "\tp1 = y_pred\n",
    "\n",
    "\t#mean squared error between predicted and true\n",
    "\tmse = K.mean(K.square(y_pred-y_true),axis=-1)\n",
    "\n",
    "\t#intial and final CM, delta\n",
    "\tcm_x_i = (masses[0]*p0[0]+masses[1]*p0[1]+masses[2]*p0[2])/(masses[0]+masses[1]+masses[2])\n",
    "\tcm_y_i = (masses[0]*p0[3]+masses[1]*p0[4]+masses[2]*p0[4])/(masses[0]+masses[1]+masses[2])\n",
    "\tcm_x_f = (masses[0]*p1[0]+masses[1]*p1[1]+masses[2]*p1[2])/(masses[0]+masses[1]+masses[2])\n",
    "\tcm_y_f = (masses[0]*p1[3]+masses[1]*p1[4]+masses[2]*p1[4])/(masses[0]+masses[1]+masses[2])\n",
    "\tdelta_cm_x = abs(cm_x_i-cm_x_f)\n",
    "\tdelta_cm_y = abs(cm_y_i-cm_y_f)\n",
    "\n",
    "\treturn mse\n",
    "\n",
    "\n",
    "\n",
    "#parameters \n",
    "max_epochs = 30\n",
    "optimizer = 'adam'\n",
    "batch_size = 5000       #FIXME: paper used 5000 for 10000 events\n",
    "\n",
    "network = models.Sequential()\n",
    "network.add(layers.Dense(128,activation='relu',input_dim=len(i_col)))\n",
    "for i in range(5):\n",
    "\tnetwork.add(layers.Dense(128,activation='relu'))\n",
    "network.add(layers.Dense(len(o_col),activation='linear'))\n",
    "network.compile(optimizer=optimizer, loss='mse', metrics=['accuracy'])\n",
    "network.save_weights(workDir + 'weights/model_init.h5')\n",
    "\n",
    "history = network.fit(X_train,y_train,\n",
    "                              epochs=max_epochs,\n",
    "                              batch_size=batch_size,\n",
    "                              validation_data=(X_test,y_test),\n",
    "                              verbose = 1)\n",
    "\n",
    "training_vals_acc = history.history['accuracy']\n",
    "training_vals_loss = history.history['loss']\n",
    "valid_vals_acc = history.history['val_accuracy']\n",
    "valid_vals_loss = history.history['val_loss']\n",
    "# iterations = len(training_vals_acc)\n",
    "# print(\"Number of iterations:\",iterations)\n",
    "# print(\"Epoch\\t Train Loss\\t Train Acc\\t Val Loss\\t Val Acc\")\n",
    "# i = 0\n",
    "# for tl,ta,vl,va in zip(training_vals_loss,training_vals_acc,valid_vals_loss,valid_vals_acc):\n",
    "#     print(i,'\\t',round(tl,5),'\\t',round(ta,5),'\\t',round(vl,5),'\\t',round(va,5))\n",
    "#     i += 1\n",
    "\n",
    "# Plot training & validation accuracy values\n",
    "print(history.history.keys())\n",
    "plt.plot(history.history['accuracy'])\n",
    "plt.plot(history.history['val_accuracy'])\n",
    "plt.title('Model accuracy')\n",
    "plt.ylabel('Accuracy')\n",
    "plt.xlabel('Epoch')\n",
    "plt.legend(['Train', 'Test'], loc='upper left')\n",
    "plt.savefig(workDir + 'model_accuracy.png')\n",
    "plt.show()\n",
    "\n",
    "# Plot training & validation loss values\n",
    "plt.plot(history.history['loss'])\n",
    "plt.plot(history.history['val_loss'])\n",
    "plt.title('Model loss')\n",
    "plt.ylabel('Loss')\n",
    "plt.xlabel('Epoch')\n",
    "plt.legend(['Train', 'Test'], loc='upper left')\n",
    "plt.savefig(workDir + 'model_loss.png')\n",
    "plt.show()"
   ]
  },
  {
   "cell_type": "code",
   "execution_count": null,
   "metadata": {},
   "outputs": [],
   "source": []
  }
 ],
 "metadata": {
  "kernelspec": {
   "display_name": "Python 3",
   "language": "python",
   "name": "python3"
  },
  "language_info": {
   "codemirror_mode": {
    "name": "ipython",
    "version": 3
   },
   "file_extension": ".py",
   "mimetype": "text/x-python",
   "name": "python",
   "nbconvert_exporter": "python",
   "pygments_lexer": "ipython3",
   "version": "3.6.9"
  }
 },
 "nbformat": 4,
 "nbformat_minor": 4
}
